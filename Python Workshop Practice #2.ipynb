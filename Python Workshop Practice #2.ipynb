{
 "cells": [
  {
   "cell_type": "markdown",
   "metadata": {},
   "source": [
    "In the final link below you'll find some partially completed code. Your task is to create a function that takes an input string, randomly capitalizes some letters and prints this new string like the mocking spongebob meme.\n",
    "\n",
    "example:\n",
    "\n",
    "input_string = \"wow Python is so cool\"\n",
    "\n",
    "output = \"wOW pYTHoN Is So CoOL\"\n",
    "This is a little tougher than the other practice, one of the things that you may need to help is the random.randint() function which selects a random number.\n",
    "\n",
    "randint() info here\n",
    "\n",
    "You may also need the .join() function which will stitch a list together into one long string.\n",
    "\n",
    ".join() info here\n",
    "\n",
    "finally, here's the link to the task"
   ]
  },
  {
   "cell_type": "code",
   "execution_count": 2,
   "metadata": {},
   "outputs": [],
   "source": [
    "# We'll go over this more next session, \n",
    "# but this is how we can import packages we want to use in Python.\n",
    "# In this case I've already imported the 'random' library below.\n",
    "# We don't need to import .join() as is is a default string method.\n",
    "\n",
    "import random"
   ]
  },
  {
   "cell_type": "code",
   "execution_count": 8,
   "metadata": {},
   "outputs": [
    {
     "name": "stdout",
     "output_type": "stream",
     "text": [
      "3\n"
     ]
    }
   ],
   "source": [
    "print(random.randint(1,3)) #this prints out an integer between 1 and 3"
   ]
  },
  {
   "cell_type": "code",
   "execution_count": 16,
   "metadata": {},
   "outputs": [
    {
     "name": "stdout",
     "output_type": "stream",
     "text": [
      "hello\n"
     ]
    }
   ],
   "source": [
    "hello_letters = ['h', 'e', 'l', 'l', 'o']\n",
    "hello = \"\".join(hello_letters) # Experiment with what goes in the quotes before .join()\n",
    "print(hello)"
   ]
  },
  {
   "cell_type": "code",
   "execution_count": 17,
   "metadata": {},
   "outputs": [
    {
     "name": "stdout",
     "output_type": "stream",
     "text": [
      "['a', 'b', 'c', 'd', 'e', 'f', 'g', 'h', 'i', 'j', 'k', 'l', 'm', 'n', 'o', 'p', 'q', 'r', 's', 't', 'u', 'v', 'w', 'x', 'y', 'z']\n"
     ]
    }
   ],
   "source": [
    "alphabet = \"abcdefghijklmnopqrstuvwxyz\"\n",
    "listed_alphabet = list(alphabet)  # What does this do to the contiguous alphabet string?\n",
    "print(listed_alphabet)"
   ]
  },
  {
   "cell_type": "code",
   "execution_count": 5,
   "metadata": {},
   "outputs": [
    {
     "name": "stdout",
     "output_type": "stream",
     "text": [
      "9\n",
      "h\n",
      "e\n",
      "l\n",
      "l\n",
      "o\n",
      "['a', 'b', 'c', 'd', 'e', 'f', 'g', 'h', 'i', 'j', 'k', 'l', 'm', 'n', 'o', 'p', 'q', 'r', 's', 't', 'u', 'v', 'w', 'x', 'y', 'z']\n"
     ]
    }
   ],
   "source": [
    "############################################## CLUES ##########################################################\n",
    "\n",
    "# A few clues to help you out.\n",
    "\n",
    "# random.randint example:\n",
    "random_integer = random.randint(1, 10)  # Try changing these arguments and seeing what happens.\n",
    "print(random_integer)\n",
    "\n",
    "# .join() example:\n",
    "hello_letters = ['h', 'e', 'l', 'l', 'o']\n",
    "hello = \"\\n\".join(hello_letters) # Experiment with what goes in the quotes before .join()\n",
    "print(hello)\n",
    "\n",
    "# One more clue: \n",
    "alphabet = \"abcdefghijklmnopqrstuvwxyz\"\n",
    "listed_alphabet = list(alphabet)  # What does this do to the contiguous alphabet string?\n",
    "print(listed_alphabet)"
   ]
  },
  {
   "cell_type": "code",
   "execution_count": 33,
   "metadata": {},
   "outputs": [
    {
     "name": "stdout",
     "output_type": "stream",
     "text": [
      "2\n"
     ]
    }
   ],
   "source": [
    "alphabet = \"abcdefghijklmnopqrstuvwxyz\"\n",
    "listed_alphabet = list(alphabet)  # What does this do to the contiguous alphabet string?\n",
    "\n",
    "len(listed_alphabet) #gives me the length of the string\n",
    "range(len(listed_alphabet)) #gives me the index values; start indexing at zero, up to but not including 26\n",
    "\n",
    "\n",
    "x = random.randint(0,3)\n",
    "\n",
    "if x != 1:\n",
    "    print(x)"
   ]
  },
  {
   "cell_type": "code",
   "execution_count": 66,
   "metadata": {},
   "outputs": [
    {
     "name": "stdout",
     "output_type": "stream",
     "text": [
      "5\n"
     ]
    },
    {
     "ename": "IndexError",
     "evalue": "list index out of range",
     "output_type": "error",
     "traceback": [
      "\u001b[1;31m---------------------------------------------------------------------------\u001b[0m",
      "\u001b[1;31mIndexError\u001b[0m                                Traceback (most recent call last)",
      "\u001b[1;32m<ipython-input-66-433824a680b9>\u001b[0m in \u001b[0;36m<module>\u001b[1;34m\u001b[0m\n\u001b[0;32m      6\u001b[0m \u001b[0mprint\u001b[0m\u001b[1;33m(\u001b[0m\u001b[0ma\u001b[0m\u001b[1;33m)\u001b[0m\u001b[1;33m\u001b[0m\u001b[1;33m\u001b[0m\u001b[0m\n\u001b[0;32m      7\u001b[0m \u001b[1;33m\u001b[0m\u001b[0m\n\u001b[1;32m----> 8\u001b[1;33m \u001b[0mlisted_test_string\u001b[0m\u001b[1;33m[\u001b[0m\u001b[0ma\u001b[0m\u001b[1;33m]\u001b[0m\u001b[1;33m\u001b[0m\u001b[1;33m\u001b[0m\u001b[0m\n\u001b[0m\u001b[0;32m      9\u001b[0m \u001b[1;33m\u001b[0m\u001b[0m\n\u001b[0;32m     10\u001b[0m \u001b[0mrandom_integer\u001b[0m \u001b[1;33m=\u001b[0m \u001b[0mrandom\u001b[0m\u001b[1;33m.\u001b[0m\u001b[0mrandint\u001b[0m\u001b[1;33m(\u001b[0m\u001b[1;36m0\u001b[0m\u001b[1;33m,\u001b[0m \u001b[1;33m(\u001b[0m\u001b[0mlen\u001b[0m\u001b[1;33m(\u001b[0m\u001b[0mlisted_test_string\u001b[0m\u001b[1;33m)\u001b[0m\u001b[1;33m)\u001b[0m\u001b[1;33m)\u001b[0m\u001b[1;33m\u001b[0m\u001b[1;33m\u001b[0m\u001b[0m\n",
      "\u001b[1;31mIndexError\u001b[0m: list index out of range"
     ]
    }
   ],
   "source": [
    "test_string = \"check\"\n",
    "\n",
    "listed_test_string = list(test_string)\n",
    "a = len(listed_test_string)\n",
    "\n",
    "print(a)\n",
    "\n",
    "listed_test_string[a]\n",
    "\n",
    "random_integer = random.randint(0, (len(listed_test_string)))\n",
    "print(random_integer)"
   ]
  },
  {
   "cell_type": "code",
   "execution_count": 60,
   "metadata": {},
   "outputs": [
    {
     "name": "stdout",
     "output_type": "stream",
     "text": [
      "E\n",
      "['h', 'e', 'l', 'l', 'o']\n"
     ]
    }
   ],
   "source": [
    "test_two = 'hello'\n",
    "list_test_two = list(test_two)\n",
    "\n",
    "print(list_test_two[1].upper())\n",
    "\n",
    "print(list_test_two)"
   ]
  },
  {
   "cell_type": "code",
   "execution_count": 67,
   "metadata": {},
   "outputs": [
    {
     "name": "stdout",
     "output_type": "stream",
     "text": [
      "Write in a sentence you would like to transform to mocking: i love you and i am glad you are here\n",
      "I LoVE you AND i AM GLAd yOU aRE HErE\n"
     ]
    }
   ],
   "source": [
    "def Mocker(input_string):\n",
    "\n",
    "  # In this space you need to somehow modify the input_string to our desired result\n",
    "  #   (random letters uppercase) before printing it out to the screen.     \n",
    "    \n",
    "    listed_input_string = list(input_string) #this will take in the string we are putting in and make each letter its own value in a list\n",
    "    \n",
    "    #what are the random integers we are going to come up with\n",
    "    \n",
    "    random_integer_list = []\n",
    "    \n",
    "    for characterIndex in range(len(listed_input_string)):\n",
    "        random_integer = random.randint(0, len(listed_input_string) - 1)\n",
    "        \n",
    "        #print(f'the character index is: {characterIndex}')\n",
    "        #print(f'the random integer is: {random_integer}')\n",
    "        \n",
    "        if random_integer not in random_integer_list:\n",
    "            random_integer_list.append(random_integer)\n",
    "            \n",
    "            #print(f'this is the random list of integers {random_integer_list}')\n",
    "            listed_input_string[random_integer] = listed_input_string[random_integer].upper()\n",
    "            \n",
    "            #print(f'this is the input string indexed value of interest {listed_input_string[random_integer]}')\n",
    "            \n",
    "   \n",
    "    output_string = \"\".join(listed_input_string)\n",
    "    \n",
    "    print(output_string)\n",
    "\n",
    "\n",
    "#main code\n",
    "\n",
    "my_string = input(\"Write in a sentence you would like to transform to mocking: \")\n",
    "\n",
    "Mocker(my_string)\n",
    "     "
   ]
  },
  {
   "cell_type": "code",
   "execution_count": 69,
   "metadata": {},
   "outputs": [
    {
     "ename": "SyntaxError",
     "evalue": "cannot assign to literal (<ipython-input-69-e5d9c23d4e2e>, line 5)",
     "output_type": "error",
     "traceback": [
      "\u001b[1;36m  File \u001b[1;32m\"<ipython-input-69-e5d9c23d4e2e>\"\u001b[1;36m, line \u001b[1;32m5\u001b[0m\n\u001b[1;33m    \"H\" = new_string[1]\u001b[0m\n\u001b[1;37m    ^\u001b[0m\n\u001b[1;31mSyntaxError\u001b[0m\u001b[1;31m:\u001b[0m cannot assign to literal\n"
     ]
    }
   ],
   "source": [
    "#here is a little bit more of a thought process:\n",
    "new_string = \"This is a new string\"\n",
    "\n",
    "print(new_string)\n",
    "#\"H\" = new_string[1]# This will fail\n",
    "# The reason this fails is that strings in python are immutable. So that's why we have to convert it to a list in the first place"
   ]
  },
  {
   "cell_type": "code",
   "execution_count": 70,
   "metadata": {},
   "outputs": [
    {
     "name": "stdout",
     "output_type": "stream",
     "text": [
      "Write in a sentence you would like to transform to mocking: This is a test\n",
      "ThIS IS A TEst\n"
     ]
    }
   ],
   "source": [
    "#Here is a potentially better version of the same code:\n",
    "\n",
    "def Mocker(input_string):\n",
    "\n",
    "  # In this space you need to somehow modify the input_string to our desired result\n",
    "  #   (random letters uppercase) before printing it out to the screen.     \n",
    "    \n",
    "    listed_input_string = list(input_string) #this will take in the string we are putting in and make each letter its own value in a list    \n",
    "    \n",
    "    for characterIndex in range(len(listed_input_string)):\n",
    "        \n",
    "        if random.randint(0,1) == 0:\n",
    "            #if we choose an integer at random between 0 and and that integer = 0 then:\n",
    "            #we only need the binary case of when ther andom integer is 0 or 1 because we only have is converted to upper or is not\n",
    "            listed_input_string[characterIndex] = listed_input_string[characterIndex].upper()            \n",
    "   \n",
    "    output_string = \"\".join(listed_input_string)\n",
    "    \n",
    "    print(output_string)\n",
    "\n",
    "\n",
    "#main code\n",
    "\n",
    "my_string = input(\"Write in a sentence you would like to transform to mocking: \")\n",
    "\n",
    "Mocker(my_string)\n",
    "     "
   ]
  },
  {
   "cell_type": "code",
   "execution_count": 3,
   "metadata": {},
   "outputs": [
    {
     "name": "stdout",
     "output_type": "stream",
     "text": [
      "Write in a sentence you would like to transform to mocking: Flo is awesome\n",
      "flO iS AwEsoME\n"
     ]
    }
   ],
   "source": [
    "#Ok, based on other online solutions, there is an even better way to do this!\n",
    "\n",
    "\n",
    "def Mocker(input_string):\n",
    "    \n",
    "    # In this space you need to somehow modify the input_string to our desired result\n",
    "  #   (random letters uppercase) before printing it out to the screen.     \n",
    "    \n",
    "    \n",
    "    listed_input_string = list(input_string.lower()) #this will take in the string we are putting in, convert all individual characters within the string to lower case, and make each letter its own value in a list    \n",
    "    individualChars = [] #this will hold the individual characters\n",
    "    \n",
    "    for characterIndex in range(len(listed_input_string)):\n",
    "        \n",
    "        if random.randint(0,1) == 0:\n",
    "            #if we choose an integer at random between 0 and and that integer = 0 then:\n",
    "            #we only need the binary case of when ther andom integer is 0 or 1 because we only have is converted to upper or is not\n",
    "            individualChars.append(listed_input_string[characterIndex].upper())\n",
    "            \n",
    "        else: \n",
    "            individualChars.append(listed_input_string[characterIndex])\n",
    "            \n",
    "\n",
    "    output_string = \"\".join(individualChars)\n",
    "    \n",
    "    print(output_string)\n",
    "\n",
    "\n",
    "#main code\n",
    "\n",
    "my_string = input(\"Write in a sentence you would like to transform to mocking: \")\n",
    "\n",
    "Mocker(my_string)"
   ]
  },
  {
   "cell_type": "code",
   "execution_count": null,
   "metadata": {},
   "outputs": [],
   "source": []
  }
 ],
 "metadata": {
  "kernelspec": {
   "display_name": "Python 3",
   "language": "python",
   "name": "python3"
  },
  "language_info": {
   "codemirror_mode": {
    "name": "ipython",
    "version": 3
   },
   "file_extension": ".py",
   "mimetype": "text/x-python",
   "name": "python",
   "nbconvert_exporter": "python",
   "pygments_lexer": "ipython3",
   "version": "3.8.5"
  },
  "toc": {
   "base_numbering": 1,
   "nav_menu": {},
   "number_sections": true,
   "sideBar": true,
   "skip_h1_title": false,
   "title_cell": "Table of Contents",
   "title_sidebar": "Contents",
   "toc_cell": false,
   "toc_position": {},
   "toc_section_display": true,
   "toc_window_display": false
  }
 },
 "nbformat": 4,
 "nbformat_minor": 4
}
