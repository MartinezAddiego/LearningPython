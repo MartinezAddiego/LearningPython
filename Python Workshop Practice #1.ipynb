{
 "cells": [
  {
   "cell_type": "markdown",
   "metadata": {},
   "source": [
    "## **Practice #1**\n",
    "In this first practice script we'll practice using loops, conditional statements, and different variable types all at once.\n",
    "\n",
    "Your goal is to finish the below script to let a user create a shopping list, you will need to accept input on each item of the list and at the end print out the entire list to the console using print().\n",
    "\n",
    "The link to the task is [here](https://github.com/connorgrannis/nch_python_workshop/blob/master/Practice_Assignments/Week1/Shopping_List.ipynb)"
   ]
  },
  {
   "cell_type": "code",
   "execution_count": 2,
   "metadata": {},
   "outputs": [
    {
     "name": "stdout",
     "output_type": "stream",
     "text": [
      "Who's shopping list is this? Flo\n",
      "Add an item to the shopping list: bread\n",
      "Are you done adding to your shopping list? (input yes/no): yes\n",
      "Flo Shopping List: \n",
      "\t bread\n"
     ]
    }
   ],
   "source": [
    "name = input(\"Whose shopping list is this? \")     # This will capture user input and save it as name.\n",
    "\n",
    "shoppingList = []\n",
    "\n",
    "while True:     # What does this mean? how can we exit the loop?\n",
    "\n",
    "  ## 1. Next we need code to capture any things the user wants to put on the shopping list. \n",
    "  #     (Hint: it's similar to the first line.)\n",
    "    newItem = input(\"Add an item to the shopping list: \")\n",
    "\n",
    "  ## 2. Now we need to take that new item and put it at the end of the shopping list.\n",
    "  #     What variable would work well to capture all the items in our shopping list?\n",
    "  #     How can we add to that shopping list?\n",
    "\n",
    "    shoppingList.append(newItem)    \n",
    "    \n",
    "\n",
    "  ## 3. Eventually we need a way to get out of this loop.\n",
    "  #     We only want to break the loop when the user has put in everything they want.\n",
    "  #     We could use another input that asks if they are done each time, \n",
    "  #     and only break depending on their answer.\n",
    "    done = input(\"Are you done adding to your shopping list? (input yes/no): \")\n",
    "    done = done.upper()\n",
    "    if done[0] == 'Y':\n",
    "        break\n",
    "\n",
    "\n",
    "  ## 4. Now we're out of the loop, let's add something to print a short sentence with the info we have,\n",
    "  #     something like \"____'s Shopping List:\" followed by each item in the shopping list indented.\n",
    "  #     A for loop would work well here, to iterate through each item of the shopping list.\n",
    "\n",
    "print(f'{name}\\'s Shopping List: ')\n",
    "\n",
    "for itemInList in shoppingList:\n",
    "    print(f'\\t {itemInList}')\n",
    "\n"
   ]
  },
  {
   "cell_type": "markdown",
   "metadata": {},
   "source": [
    "BONUS: Modify your script to add in a way for the user to add in the amount they want of each item. Make sure to modify your final print statement at the end to reflect this!"
   ]
  },
  {
   "cell_type": "code",
   "execution_count": 5,
   "metadata": {},
   "outputs": [
    {
     "name": "stdout",
     "output_type": "stream",
     "text": [
      "Who's shopping list is this? gui\n",
      "Add an item to the shopping list: bread\n",
      "Add the price of the item you just added to the shopping list: 5\n",
      "Are you done adding to your shopping list? (input yes/no): no\n",
      "Add an item to the shopping list: butter\n",
      "Add the price of the item you just added to the shopping list: 2\n",
      "Are you done adding to your shopping list? (input yes/no): yes\n",
      "gui's Shopping List: \n",
      "\t bread $5\n",
      "\t butter $2\n",
      "Your total is: 7\n"
     ]
    }
   ],
   "source": [
    "name = input(\"Whose shopping list is this? \")     # This will capture user input and save it as name.\n",
    "\n",
    "shoppingList = []\n",
    "runningTotal = 0\n",
    "\n",
    "while True:     # What does this mean? how can we exit the loop?\n",
    "\n",
    "  ## 1. Next we need code to capture any things the user wants to put on the shopping list. \n",
    "  #     (Hint: it's similar to the first line.)\n",
    "    newItem = input(\"Add an item to the shopping list: \")\n",
    "    priceOfItem = input(\"Add the price of the item you just added to the shopping list: \")\n",
    "    \n",
    "    combinationOfItemAndPrice = newItem + ' ' + '$' + priceOfItem \n",
    "    runningTotal += int(priceOfItem)\n",
    "\n",
    "  ## 2. Now we need to take that new item and put it at the end of the shopping list.\n",
    "  #     What variable would work well to capture all the items in our shopping list?\n",
    "  #     How can we add to that shopping list?\n",
    "\n",
    "    shoppingList.append(combinationOfItemAndPrice)    \n",
    "    \n",
    "\n",
    "  ## 3. Eventually we need a way to get out of this loop.\n",
    "  #     We only want to break the loop when the user has put in everything they want.\n",
    "  #     We could use another input that asks if they are done each time, \n",
    "  #     and only break depending on their answer.\n",
    "    done = input(\"Are you done adding to your shopping list? (input yes/no): \")\n",
    "    done = done.upper()\n",
    "    if done[0] == 'Y':\n",
    "        break\n",
    "\n",
    "\n",
    "  ## 4. Now we're out of the loop, let's add something to print a short sentence with the info we have,\n",
    "  #     something like \"____'s Shopping List:\" followed by each item in the shopping list indented.\n",
    "  #     A for loop would work well here, to iterate through each item of the shopping list.\n",
    "\n",
    "print(f'{name}\\'s Shopping List: ')\n",
    "for itemInList in shoppingList:\n",
    "    print(f'\\t {itemInList}')\n",
    "print(f'Your total is: {runningTotal}')"
   ]
  },
  {
   "cell_type": "markdown",
   "metadata": {},
   "source": [
    "Ok. I have tried one solution for the problem posed. The next step will be to try to solve this same problem a different way."
   ]
  },
  {
   "cell_type": "code",
   "execution_count": 47,
   "metadata": {},
   "outputs": [
    {
     "name": "stdout",
     "output_type": "stream",
     "text": [
      "Whose shopping list is this? Flo\n"
     ]
    }
   ],
   "source": [
    "#Let's do this with a class\n",
    "\n",
    "class shoppingList:\n",
    "    \n",
    "    #init method or constructor; # name of the person\n",
    "    def __init__(self, nameOfShopper):\n",
    "        self.nameOfShopper = nameOfShopper    \n",
    "        self.shoppingList = []\n",
    "        self.itemPriceList = []\n",
    "        self.runningTotal = 0\n",
    "        \n",
    "        \n",
    "    def addItemToList(self, itemName, itemPrice):\n",
    "\n",
    "        self.itemName = itemName\n",
    "        self.itemPrice = itemPrice\n",
    "        \n",
    "        self.shoppingList.append(itemName)\n",
    "        self.itemPriceList.append(itemPrice)\n",
    "        self.runningTotal += itemPrice\n",
    "        \n",
    "        \n",
    "    def printOut(self):\n",
    "        \n",
    "        for i in range(len(self.shoppingList)):\n",
    "            print(self.shoppingList[i] + '  $' + str(self.itemPriceList[i]))\n",
    "        print(f'Your total is: ${self.runningTotal}')\n",
    "    \n",
    " \n",
    "name = input(\"Whose shopping list is this? \")\n",
    "myList = shoppingList(name)\n",
    "\n",
    "\n",
    "    # add item of choice\n",
    "    # add price of item of choice\n",
    "    # running total\n",
    "    # delete item of choice\n",
    "    # print out shopping list\n",
    "    \n",
    "    "
   ]
  },
  {
   "cell_type": "code",
   "execution_count": 62,
   "metadata": {},
   "outputs": [
    {
     "name": "stdout",
     "output_type": "stream",
     "text": [
      "Whose shopping list is this? Flo\n",
      "Add an item to the shopping list: bread\n",
      "Add the price of the item you just added to the shopping list: 5\n",
      "Are you done adding to your shopping list? (input yes/no): no\n",
      "Add an item to the shopping list: butter\n",
      "Add the price of the item you just added to the shopping list: 2\n",
      "Are you done adding to your shopping list? (input yes/no): yes\n",
      "Flo's Shopping List: \n",
      "bread  $5\n",
      "butter  $2\n",
      "Your total is: $7\n"
     ]
    }
   ],
   "source": [
    "class shoppingList:\n",
    "    \n",
    "    #init method or constructor; # name of the person\n",
    "    def __init__(self, nameOfShopper):\n",
    "        self.nameOfShopper = nameOfShopper    \n",
    "        self.shoppingList = []\n",
    "        self.itemPriceList = []\n",
    "        self.runningTotal = 0\n",
    "        \n",
    "        \n",
    "    def addItemToList(self, itemName, itemPrice):\n",
    "\n",
    "        self.itemName = itemName\n",
    "        self.itemPrice = itemPrice\n",
    "        \n",
    "        self.shoppingList.append(itemName)\n",
    "        self.itemPriceList.append(itemPrice)\n",
    "        self.runningTotal += itemPrice\n",
    "        \n",
    "        \n",
    "    def printOut(self):\n",
    "        for i in range(len(self.shoppingList)):\n",
    "            print(self.shoppingList[i] + '  $' + str(self.itemPriceList[i]))\n",
    "        print(f'Your total is: ${self.runningTotal}')\n",
    "\n",
    "\n",
    "name = input(\"Whose shopping list is this? \")     # This will capture user input and save it as name.\n",
    "myList = shoppingList(name)\n",
    "\n",
    "while True:     \n",
    "    myList.addItemToList(input(\"Add an item to the shopping list: \"), int(input(\"Add the price of the item you just added to the shopping list: \")))    \n",
    "    done = input(\"Are you done adding to your shopping list? (input yes/no): \")\n",
    "    done = done.upper()\n",
    "    if done[0] == 'Y':\n",
    "        break\n",
    "        \n",
    "print(f'{myList.nameOfShopper}\\'s Shopping List: ')\n",
    "myList.printOut()\n",
    "\n"
   ]
  },
  {
   "cell_type": "code",
   "execution_count": null,
   "metadata": {},
   "outputs": [],
   "source": []
  }
 ],
 "metadata": {
  "kernelspec": {
   "display_name": "Python 3",
   "language": "python",
   "name": "python3"
  },
  "language_info": {
   "codemirror_mode": {
    "name": "ipython",
    "version": 3
   },
   "file_extension": ".py",
   "mimetype": "text/x-python",
   "name": "python",
   "nbconvert_exporter": "python",
   "pygments_lexer": "ipython3",
   "version": "3.8.5"
  },
  "toc": {
   "base_numbering": 1,
   "nav_menu": {},
   "number_sections": true,
   "sideBar": true,
   "skip_h1_title": false,
   "title_cell": "Table of Contents",
   "title_sidebar": "Contents",
   "toc_cell": false,
   "toc_position": {},
   "toc_section_display": true,
   "toc_window_display": false
  }
 },
 "nbformat": 4,
 "nbformat_minor": 4
}
