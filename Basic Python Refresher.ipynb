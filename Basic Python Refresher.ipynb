{
 "cells": [
  {
   "cell_type": "markdown",
   "id": "9c29758c-ee54-45a0-a721-6c6cd502926d",
   "metadata": {},
   "source": [
    "Practice Code to Learn Python"
   ]
  },
  {
   "cell_type": "code",
   "execution_count": 3,
   "id": "0b1e222d-1099-4e52-9ba0-7566fd84152c",
   "metadata": {},
   "outputs": [],
   "source": [
    "import math\n",
    "import numpy as np"
   ]
  },
  {
   "cell_type": "code",
   "execution_count": 4,
   "id": "bc0944d4-db6c-438f-8f05-29f51454d380",
   "metadata": {},
   "outputs": [
    {
     "data": {
      "text/plain": [
       "5.0"
      ]
     },
     "execution_count": 4,
     "metadata": {},
     "output_type": "execute_result"
    }
   ],
   "source": [
    "math.sqrt(25)"
   ]
  },
  {
   "cell_type": "code",
   "execution_count": 7,
   "id": "2e929643-4ad2-4fec-aff5-ff9c10913b8e",
   "metadata": {},
   "outputs": [],
   "source": [
    "content = dir(math)\n",
    "# if we do this, we can see all the functions in math module"
   ]
  },
  {
   "cell_type": "markdown",
   "id": "92d3b1eb-a85c-445d-8cf6-91110f884911",
   "metadata": {},
   "source": [
    "Basic Operations in Python"
   ]
  },
  {
   "cell_type": "code",
   "execution_count": 9,
   "id": "9585cd51-97c8-457f-9b6a-b439ec919d32",
   "metadata": {},
   "outputs": [
    {
     "data": {
      "text/plain": [
       "True"
      ]
     },
     "execution_count": 9,
     "metadata": {},
     "output_type": "execute_result"
    }
   ],
   "source": [
    "# Basic Operations: Boolean Operations\n",
    "5 > 3"
   ]
  },
  {
   "cell_type": "code",
   "execution_count": 10,
   "id": "1d6c22d6-924c-40d3-bc3a-55d59968cdde",
   "metadata": {},
   "outputs": [
    {
     "data": {
      "text/plain": [
       "True"
      ]
     },
     "execution_count": 10,
     "metadata": {},
     "output_type": "execute_result"
    }
   ],
   "source": [
    "5>=3"
   ]
  },
  {
   "cell_type": "code",
   "execution_count": 11,
   "id": "840a6e13-321f-4c21-8c4a-a94cac9288a8",
   "metadata": {},
   "outputs": [
    {
     "data": {
      "text/plain": [
       "True"
      ]
     },
     "execution_count": 11,
     "metadata": {},
     "output_type": "execute_result"
    }
   ],
   "source": [
    "5!=3"
   ]
  },
  {
   "cell_type": "code",
   "execution_count": 12,
   "id": "80ca5777-e6b6-405d-b244-807f0de88fe4",
   "metadata": {},
   "outputs": [
    {
     "data": {
      "text/plain": [
       "True"
      ]
     },
     "execution_count": 12,
     "metadata": {},
     "output_type": "execute_result"
    }
   ],
   "source": [
    "5==5"
   ]
  },
  {
   "cell_type": "code",
   "execution_count": 13,
   "id": "80336fee-a490-427e-a810-7dd02e03c9b8",
   "metadata": {},
   "outputs": [
    {
     "data": {
      "text/plain": [
       "True"
      ]
     },
     "execution_count": 13,
     "metadata": {},
     "output_type": "execute_result"
    }
   ],
   "source": [
    "5>3 and 6>3"
   ]
  },
  {
   "cell_type": "code",
   "execution_count": 14,
   "id": "05aaf7d5-b9f8-4b31-8296-102c1195ee36",
   "metadata": {},
   "outputs": [
    {
     "data": {
      "text/plain": [
       "True"
      ]
     },
     "execution_count": 14,
     "metadata": {},
     "output_type": "execute_result"
    }
   ],
   "source": [
    "5>3 or 5 <3"
   ]
  },
  {
   "cell_type": "code",
   "execution_count": 15,
   "id": "a13c5bd7-e9f3-4341-ac31-49f33b176fac",
   "metadata": {},
   "outputs": [
    {
     "data": {
      "text/plain": [
       "True"
      ]
     },
     "execution_count": 15,
     "metadata": {},
     "output_type": "execute_result"
    }
   ],
   "source": [
    "not False"
   ]
  },
  {
   "cell_type": "code",
   "execution_count": 16,
   "id": "25c8700e-640d-4463-bfab-ec70b9d0b663",
   "metadata": {},
   "outputs": [
    {
     "data": {
      "text/plain": [
       "True"
      ]
     },
     "execution_count": 16,
     "metadata": {},
     "output_type": "execute_result"
    }
   ],
   "source": [
    "False or not False and True"
   ]
  },
  {
   "cell_type": "code",
   "execution_count": 18,
   "id": "567d8f30-2279-4c99-8d00-3e616ca3a43e",
   "metadata": {},
   "outputs": [
    {
     "name": "stdout",
     "output_type": "stream",
     "text": [
      "<class 'int'>\n",
      "<class 'float'>\n",
      "<class 'str'>\n",
      "<class 'bool'>\n",
      "<class 'NoneType'>\n"
     ]
    }
   ],
   "source": [
    "print(type(2)) # int\n",
    "print(type(2.0)) # float\n",
    "print(type('two')) # str\n",
    "print(type(True)) # bool\n",
    "print(type(None)) # NoneType"
   ]
  },
  {
   "cell_type": "code",
   "execution_count": 21,
   "id": "bd994dc8-e214-4d63-8150-51326498f791",
   "metadata": {},
   "outputs": [
    {
     "name": "stdout",
     "output_type": "stream",
     "text": [
      "True\n",
      "False\n",
      "True\n"
     ]
    }
   ],
   "source": [
    "print(isinstance(2,int)) # returns True\n",
    "print(isinstance(2.0,int)) # returns False\n",
    "print(isinstance(2.0,(int,float))) # returns True"
   ]
  },
  {
   "cell_type": "code",
   "execution_count": 22,
   "id": "58c5fb41-4624-4d8c-a9eb-0bde2775f021",
   "metadata": {},
   "outputs": [
    {
     "data": {
      "text/plain": [
       "'2.9'"
      ]
     },
     "execution_count": 22,
     "metadata": {},
     "output_type": "execute_result"
    }
   ],
   "source": [
    "float(2)\n",
    "int(2.9)\n",
    "str(2.9)"
   ]
  },
  {
   "cell_type": "code",
   "execution_count": 23,
   "id": "abd33492-d9ab-4269-a4d4-a1bb5abce35f",
   "metadata": {},
   "outputs": [
    {
     "data": {
      "text/plain": [
       "False"
      ]
     },
     "execution_count": 23,
     "metadata": {},
     "output_type": "execute_result"
    }
   ],
   "source": [
    "bool(0)"
   ]
  },
  {
   "cell_type": "code",
   "execution_count": 24,
   "id": "06e5872c-0f03-4c93-9132-fc06a4e1741e",
   "metadata": {},
   "outputs": [
    {
     "data": {
      "text/plain": [
       "False"
      ]
     },
     "execution_count": 24,
     "metadata": {},
     "output_type": "execute_result"
    }
   ],
   "source": [
    "bool(None)"
   ]
  },
  {
   "cell_type": "code",
   "execution_count": 28,
   "id": "de93d4a0-bc06-45a4-a0b4-8174632c16cb",
   "metadata": {},
   "outputs": [
    {
     "data": {
      "text/plain": [
       "False"
      ]
     },
     "execution_count": 28,
     "metadata": {},
     "output_type": "execute_result"
    }
   ],
   "source": [
    "bool('') #empty string"
   ]
  },
  {
   "cell_type": "code",
   "execution_count": 29,
   "id": "4d5a9fb8-88c9-4904-862e-e6866dbd42cc",
   "metadata": {},
   "outputs": [
    {
     "data": {
      "text/plain": [
       "False"
      ]
     },
     "execution_count": 29,
     "metadata": {},
     "output_type": "execute_result"
    }
   ],
   "source": [
    "bool([]) #emtpy list"
   ]
  },
  {
   "cell_type": "code",
   "execution_count": 30,
   "id": "a41edc0b-a438-443b-b905-41abdb986a65",
   "metadata": {},
   "outputs": [
    {
     "data": {
      "text/plain": [
       "False"
      ]
     },
     "execution_count": 30,
     "metadata": {},
     "output_type": "execute_result"
    }
   ],
   "source": [
    "bool({}) #empty dictionary"
   ]
  },
  {
   "cell_type": "code",
   "execution_count": 31,
   "id": "a214b76d-6410-4c2a-a61c-f0d4df170440",
   "metadata": {},
   "outputs": [
    {
     "data": {
      "text/plain": [
       "True"
      ]
     },
     "execution_count": 31,
     "metadata": {},
     "output_type": "execute_result"
    }
   ],
   "source": [
    "bool(2)"
   ]
  },
  {
   "cell_type": "code",
   "execution_count": 32,
   "id": "aeda30ed-12e6-472c-9e05-c4ee4f52e850",
   "metadata": {},
   "outputs": [
    {
     "data": {
      "text/plain": [
       "True"
      ]
     },
     "execution_count": 32,
     "metadata": {},
     "output_type": "execute_result"
    }
   ],
   "source": [
    "bool('two')"
   ]
  },
  {
   "cell_type": "code",
   "execution_count": 33,
   "id": "c79adfcd-1253-4c07-84bc-a491e134395d",
   "metadata": {},
   "outputs": [
    {
     "data": {
      "text/plain": [
       "True"
      ]
     },
     "execution_count": 33,
     "metadata": {},
     "output_type": "execute_result"
    }
   ],
   "source": [
    "bool([2])"
   ]
  },
  {
   "cell_type": "markdown",
   "id": "5920e381-8e22-49f7-a489-567b782f6bbc",
   "metadata": {},
   "source": [
    "# Lists\n",
    "\n",
    "Different objects categorized along a certain ordered sequence, lists are ordered, iterable, mutable (adding or removing objects changes the size of the list), can contain multiple data types."
   ]
  },
  {
   "cell_type": "code",
   "execution_count": 65,
   "id": "a77ff698-bc41-4550-90e0-c8a3b50f42ae",
   "metadata": {},
   "outputs": [],
   "source": [
    "# create an empty list (two ways)\n",
    "empty_list1 = []\n",
    "empty_list2 = list()"
   ]
  },
  {
   "cell_type": "code",
   "execution_count": 66,
   "id": "d7e61d12-4ef1-4642-bd72-04a8d3a21236",
   "metadata": {},
   "outputs": [],
   "source": [
    "# create a populated list\n",
    "simpsons = ['homer','marge','bart']"
   ]
  },
  {
   "cell_type": "code",
   "execution_count": 67,
   "id": "b7e7802a-02bb-4710-a5bb-6b70cb5a08f2",
   "metadata": {},
   "outputs": [
    {
     "name": "stdout",
     "output_type": "stream",
     "text": [
      "homer\n",
      "3\n"
     ]
    }
   ],
   "source": [
    "print(simpsons[0])\n",
    "print(len(simpsons))"
   ]
  },
  {
   "cell_type": "code",
   "execution_count": 68,
   "id": "9a0b573f-57dc-458a-a599-24bb5ae0fef0",
   "metadata": {},
   "outputs": [
    {
     "name": "stdout",
     "output_type": "stream",
     "text": [
      "['homer', 'marge', 'bart', 'lisa']\n"
     ]
    }
   ],
   "source": [
    "simpsons.append('lisa')\n",
    "print(simpsons)"
   ]
  },
  {
   "cell_type": "code",
   "execution_count": 69,
   "id": "900203c9-1387-4db3-ad81-704496e061a3",
   "metadata": {},
   "outputs": [
    {
     "name": "stdout",
     "output_type": "stream",
     "text": [
      "['homer', 'marge', 'bart', 'lisa', 'itchy', 'scratchy']\n"
     ]
    }
   ],
   "source": [
    "simpsons.extend(['itchy','scratchy'])\n",
    "print(simpsons)"
   ]
  },
  {
   "cell_type": "code",
   "execution_count": 70,
   "id": "b6663d9d-0dd6-4bbf-8d73-a24922378379",
   "metadata": {},
   "outputs": [
    {
     "name": "stdout",
     "output_type": "stream",
     "text": [
      "['maggie', 'homer', 'marge', 'bart', 'lisa', 'itchy', 'scratchy']\n"
     ]
    }
   ],
   "source": [
    "simpsons.insert(0,'maggie')\n",
    "print(simpsons)"
   ]
  },
  {
   "cell_type": "code",
   "execution_count": 71,
   "id": "c7747d53-1036-4db0-993d-e40bf726ed9d",
   "metadata": {},
   "outputs": [
    {
     "name": "stdout",
     "output_type": "stream",
     "text": [
      "['maggie', 'homer', 'marge', 'lisa', 'itchy', 'scratchy']\n"
     ]
    }
   ],
   "source": [
    "simpsons.remove('bart')\n",
    "print(simpsons)"
   ]
  },
  {
   "cell_type": "code",
   "execution_count": 72,
   "id": "036da0f6-dc91-411d-ab06-6581a4aa6cf8",
   "metadata": {},
   "outputs": [
    {
     "name": "stdout",
     "output_type": "stream",
     "text": [
      "['homer', 'marge', 'lisa', 'itchy', 'scratchy']\n"
     ]
    }
   ],
   "source": [
    "simpsons.pop(0)\n",
    "# will remove the first element\n",
    "print(simpsons)"
   ]
  },
  {
   "cell_type": "code",
   "execution_count": 73,
   "id": "93706c2b-e384-47f4-9081-0173a71ef5d4",
   "metadata": {},
   "outputs": [
    {
     "name": "stdout",
     "output_type": "stream",
     "text": [
      "['marge', 'lisa', 'itchy', 'scratchy']\n"
     ]
    }
   ],
   "source": [
    "del simpsons[0] # will remove the first element\n",
    "print(simpsons)"
   ]
  },
  {
   "cell_type": "code",
   "execution_count": 74,
   "id": "c7eba739-10b4-4848-96ed-524d9df4a38d",
   "metadata": {},
   "outputs": [
    {
     "name": "stdout",
     "output_type": "stream",
     "text": [
      "['krusty', 'lisa', 'itchy', 'scratchy']\n"
     ]
    }
   ],
   "source": [
    "simpsons[0] = 'krusty'\n",
    "print(simpsons)"
   ]
  },
  {
   "cell_type": "code",
   "execution_count": 75,
   "id": "17beae8d-d5ac-4368-b5b0-fde212eb1404",
   "metadata": {},
   "outputs": [
    {
     "name": "stdout",
     "output_type": "stream",
     "text": [
      "['krusty', 'lisa', 'itchy', 'scratchy', 'ned', 'rod', 'todd']\n"
     ]
    }
   ],
   "source": [
    "# we can concatenate lists using the + sign, this will be slower than using the extend method\n",
    "\n",
    "neighbors = simpsons + ['ned','rod','todd']\n",
    "print(neighbors)"
   ]
  },
  {
   "cell_type": "code",
   "execution_count": 76,
   "id": "d763eecd-7830-45ba-8cbd-eaf591448eed",
   "metadata": {},
   "outputs": [
    {
     "data": {
      "text/plain": [
       "True"
      ]
     },
     "execution_count": 76,
     "metadata": {},
     "output_type": "execute_result"
    }
   ],
   "source": [
    "# how can we check to make sure that elements are in the list?\n",
    "'lisa' in simpsons"
   ]
  },
  {
   "cell_type": "code",
   "execution_count": 77,
   "id": "c840ded8-df81-4b37-b13e-2a44ee231cd4",
   "metadata": {},
   "outputs": [
    {
     "data": {
      "text/plain": [
       "1"
      ]
     },
     "execution_count": 77,
     "metadata": {},
     "output_type": "execute_result"
    }
   ],
   "source": [
    "simpsons.count('lisa')"
   ]
  },
  {
   "cell_type": "code",
   "execution_count": 78,
   "id": "e13e3985-d401-4834-bc41-cc534757c0be",
   "metadata": {},
   "outputs": [
    {
     "data": {
      "text/plain": [
       "2"
      ]
     },
     "execution_count": 78,
     "metadata": {},
     "output_type": "execute_result"
    }
   ],
   "source": [
    "simpsons.index('itchy')"
   ]
  },
  {
   "cell_type": "code",
   "execution_count": 79,
   "id": "a629c9e1-d586-4e23-a701-b5c40082e03a",
   "metadata": {},
   "outputs": [],
   "source": [
    "# let's try list slicing [start:end:stride]\n",
    "weekdays = ['monday','tuesday','wednesday','thursday','friday']"
   ]
  },
  {
   "cell_type": "code",
   "execution_count": 80,
   "id": "b690a285-32d3-483f-b985-27d0629e4091",
   "metadata": {},
   "outputs": [
    {
     "name": "stdout",
     "output_type": "stream",
     "text": [
      "monday\n",
      "['monday', 'tuesday', 'wednesday']\n",
      "['monday', 'tuesday', 'wednesday']\n",
      "friday\n",
      "['monday', 'wednesday', 'friday']\n",
      "['friday', 'thursday', 'wednesday', 'tuesday', 'monday']\n"
     ]
    }
   ],
   "source": [
    "print(weekdays[0]) # prints monday\n",
    "print(weekdays[0:3]) # prints monday tuesday wednesday\n",
    "print(weekdays[:3]) # prints monday tuesday wednesday\n",
    "print(weekdays[-1]) # prints friday\n",
    "print(weekdays[::2]) # prints monday wednesday friday\n",
    "print(weekdays[::-1]) # prints friday, thursday, wednesday, tuesday, monday"
   ]
  },
  {
   "cell_type": "code",
   "execution_count": 82,
   "id": "1eff2c8a-1b02-4f49-a2fd-e45c9ae881ff",
   "metadata": {},
   "outputs": [
    {
     "data": {
      "text/plain": [
       "['friday', 'thursday', 'wednesday', 'tuesday', 'monday']"
      ]
     },
     "execution_count": 82,
     "metadata": {},
     "output_type": "execute_result"
    }
   ],
   "source": [
    "# prints the list in reverse as well and holds it as a list\n",
    "list(reversed(weekdays))"
   ]
  },
  {
   "cell_type": "code",
   "execution_count": 88,
   "id": "452e0e34-5179-48fa-a7dc-9d98ba63dd00",
   "metadata": {},
   "outputs": [
    {
     "name": "stdout",
     "output_type": "stream",
     "text": [
      "['itchy', 'krusty', 'lisa', 'scratchy']\n",
      "['scratchy', 'lisa', 'krusty', 'itchy']\n",
      "['lisa', 'itchy', 'krusty', 'scratchy']\n"
     ]
    }
   ],
   "source": [
    "# next we need to sort a list in place (modifies but does not return the list)\n",
    "simpsons.sort()\n",
    "print(simpsons)\n",
    "simpsons.sort(reverse=True)\n",
    "print(simpsons)\n",
    "simpsons.sort(key=len)\n",
    "print(simpsons)"
   ]
  },
  {
   "cell_type": "code",
   "execution_count": 89,
   "id": "6f6406c8-d9d3-4fc6-825e-a64437e21228",
   "metadata": {},
   "outputs": [
    {
     "name": "stdout",
     "output_type": "stream",
     "text": [
      "['itchy', 'krusty', 'lisa', 'scratchy']\n",
      "['scratchy', 'lisa', 'krusty', 'itchy']\n",
      "['lisa', 'itchy', 'krusty', 'scratchy']\n"
     ]
    }
   ],
   "source": [
    "print(sorted(simpsons))\n",
    "print(sorted(simpsons,reverse=True))\n",
    "print(sorted(simpsons,key=len))"
   ]
  },
  {
   "cell_type": "code",
   "execution_count": 90,
   "id": "97d11c0b-27cb-4238-ba5e-a2b9d9645c77",
   "metadata": {},
   "outputs": [
    {
     "name": "stdout",
     "output_type": "stream",
     "text": [
      "[1, 2, 3] [1, 2, 3]\n"
     ]
    }
   ],
   "source": [
    "# let's create a second reference to the same list\n",
    "num = [1,2,3]\n",
    "same_num=num\n",
    "print(num, same_num)"
   ]
  },
  {
   "cell_type": "code",
   "execution_count": 92,
   "id": "52e2a6e6-a2fc-417e-8980-e2f24a67b970",
   "metadata": {},
   "outputs": [
    {
     "name": "stdout",
     "output_type": "stream",
     "text": [
      "[0, 2, 3] [0, 2, 3]\n"
     ]
    }
   ],
   "source": [
    "same_num[0]=0 # this modifies both same_num and num\n",
    "print(num, same_num)"
   ]
  },
  {
   "cell_type": "code",
   "execution_count": 93,
   "id": "b0ae6a32-0019-413c-8713-216a4ead31dc",
   "metadata": {},
   "outputs": [
    {
     "name": "stdout",
     "output_type": "stream",
     "text": [
      "[0, 2, 3] [0, 2, 3]\n",
      "[0, 2, 3] [0, 2, 3]\n"
     ]
    }
   ],
   "source": [
    "new_num = num.copy()\n",
    "print(new_num,num)\n",
    "new_num = num[:]\n",
    "print(new_num,num)"
   ]
  },
  {
   "cell_type": "code",
   "execution_count": 94,
   "id": "ec4009ee-70c4-4397-9cf7-60fa5466cc94",
   "metadata": {},
   "outputs": [
    {
     "name": "stdout",
     "output_type": "stream",
     "text": [
      "[0, 2, 3] [0, 2, 3]\n"
     ]
    }
   ],
   "source": [
    "new_num = list(num)\n",
    "print(new_num,num)"
   ]
  },
  {
   "cell_type": "code",
   "execution_count": 99,
   "id": "6ac142eb-4d77-44a4-95aa-5fcfdfd0152b",
   "metadata": {},
   "outputs": [
    {
     "name": "stdout",
     "output_type": "stream",
     "text": [
      "[0, 2, 3] [0, 2, 3] [0, 2, 3]\n"
     ]
    }
   ],
   "source": [
    "print(num, same_num, new_num)\n"
   ]
  },
  {
   "cell_type": "code",
   "execution_count": 112,
   "id": "f19b588c-2472-4496-a4d4-3e5767a4f1cd",
   "metadata": {},
   "outputs": [
    {
     "data": {
      "text/plain": [
       "True"
      ]
     },
     "execution_count": 112,
     "metadata": {},
     "output_type": "execute_result"
    }
   ],
   "source": [
    "# now let's look at the objects inside the list\n",
    "\n",
    "# The id function returns the identity of an object. This identity is unique and stays constant for this object during its lifetime\n",
    "# for cpython the most common implementation of python, this identity is the memory address where the object is stored\n",
    "id(num) ==id(same_num)"
   ]
  },
  {
   "cell_type": "code",
   "execution_count": 98,
   "id": "9405f655-dfc7-485f-ab15-b892a8744e5b",
   "metadata": {},
   "outputs": [
    {
     "data": {
      "text/plain": [
       "False"
      ]
     },
     "execution_count": 98,
     "metadata": {},
     "output_type": "execute_result"
    }
   ],
   "source": [
    "id(num) == id(new_num)"
   ]
  },
  {
   "cell_type": "code",
   "execution_count": 113,
   "id": "8a6501b8-e6ba-44be-bad4-453410353f2b",
   "metadata": {},
   "outputs": [
    {
     "data": {
      "text/plain": [
       "True"
      ]
     },
     "execution_count": 113,
     "metadata": {},
     "output_type": "execute_result"
    }
   ],
   "source": [
    "# the is operator checks whether two references point to the same object (it checks the identities/memory location)\n",
    "num is same_num"
   ]
  },
  {
   "cell_type": "code",
   "execution_count": 106,
   "id": "f039a636-2354-4854-bf77-4aa253302450",
   "metadata": {},
   "outputs": [
    {
     "data": {
      "text/plain": [
       "False"
      ]
     },
     "execution_count": 106,
     "metadata": {},
     "output_type": "execute_result"
    }
   ],
   "source": [
    "num is new_num # why is this false?"
   ]
  },
  {
   "cell_type": "code",
   "execution_count": 110,
   "id": "7cbf1a03-2165-4840-9132-a363aa175c6e",
   "metadata": {},
   "outputs": [
    {
     "data": {
      "text/plain": [
       "True"
      ]
     },
     "execution_count": 110,
     "metadata": {},
     "output_type": "execute_result"
    }
   ],
   "source": [
    "num == same_num"
   ]
  },
  {
   "cell_type": "code",
   "execution_count": 111,
   "id": "6dadd981-6f65-4984-ac77-37a1220e9af1",
   "metadata": {},
   "outputs": [
    {
     "data": {
      "text/plain": [
       "True"
      ]
     },
     "execution_count": 111,
     "metadata": {},
     "output_type": "execute_result"
    }
   ],
   "source": [
    "num == new_num"
   ]
  },
  {
   "cell_type": "code",
   "execution_count": 114,
   "id": "c8fb21c2-ae65-47e7-81ca-d0783a5a890c",
   "metadata": {},
   "outputs": [
    {
     "data": {
      "text/plain": [
       "[1, 2, 3, 4, 5, 6]"
      ]
     },
     "execution_count": 114,
     "metadata": {},
     "output_type": "execute_result"
    }
   ],
   "source": [
    "# concatenation is done with a +\n",
    "[1,2,3]+[4,5,6]"
   ]
  },
  {
   "cell_type": "code",
   "execution_count": 115,
   "id": "5d479f45-95a4-4e4e-aeb4-0f955218c606",
   "metadata": {},
   "outputs": [
    {
     "data": {
      "text/plain": [
       "['a', 'a', 'b', 'b', 'b']"
      ]
     },
     "execution_count": 115,
     "metadata": {},
     "output_type": "execute_result"
    }
   ],
   "source": [
    "# replication is done with a *\n",
    "[\"a\"]*2 + [\"b\"]*3"
   ]
  },
  {
   "cell_type": "markdown",
   "id": "38314404-6dca-43c2-8f41-4c5c71924ebf",
   "metadata": {},
   "source": [
    "# Tuples\n",
    "\n",
    "Like lists, but their size cannot change: ordered, iterable, immutable, can contain multiple data types"
   ]
  },
  {
   "cell_type": "code",
   "execution_count": 116,
   "id": "1c0083e9-5fca-4f0e-b0c3-78e61c91b574",
   "metadata": {},
   "outputs": [
    {
     "name": "stdout",
     "output_type": "stream",
     "text": [
      "(0, 1, 'two')\n",
      "<class 'tuple'>\n"
     ]
    }
   ],
   "source": [
    "# create a tuple\n",
    "digits = (0,1,'two') # this creates a tuple directly\n",
    "print(digits)\n",
    "print(type(digits))"
   ]
  },
  {
   "cell_type": "code",
   "execution_count": 117,
   "id": "bec72a6d-a12f-4d92-99ee-4659ebb4c31f",
   "metadata": {},
   "outputs": [
    {
     "name": "stdout",
     "output_type": "stream",
     "text": [
      "(0, 1, 'two')\n",
      "<class 'tuple'>\n"
     ]
    }
   ],
   "source": [
    "digits = tuple([0,1,'two'])\n",
    "print(digits)\n",
    "print(type(digits))"
   ]
  },
  {
   "cell_type": "code",
   "execution_count": 118,
   "id": "b19aced3-5a15-41a5-b696-72d2b574459c",
   "metadata": {},
   "outputs": [
    {
     "data": {
      "text/plain": [
       "'two'"
      ]
     },
     "execution_count": 118,
     "metadata": {},
     "output_type": "execute_result"
    }
   ],
   "source": [
    "digits[2]"
   ]
  },
  {
   "cell_type": "code",
   "execution_count": 119,
   "id": "3708169d-09e4-419f-b24a-70709cec9998",
   "metadata": {},
   "outputs": [
    {
     "data": {
      "text/plain": [
       "3"
      ]
     },
     "execution_count": 119,
     "metadata": {},
     "output_type": "execute_result"
    }
   ],
   "source": [
    "len(digits)"
   ]
  },
  {
   "cell_type": "code",
   "execution_count": 121,
   "id": "887796b0-9fd2-4bea-a776-45453ca6b7e6",
   "metadata": {},
   "outputs": [
    {
     "data": {
      "text/plain": [
       "1"
      ]
     },
     "execution_count": 121,
     "metadata": {},
     "output_type": "execute_result"
    }
   ],
   "source": [
    "digits.count(0)"
   ]
  },
  {
   "cell_type": "code",
   "execution_count": 122,
   "id": "72c3e2ec-4c45-4a80-884f-6a01bc5185b3",
   "metadata": {},
   "outputs": [
    {
     "data": {
      "text/plain": [
       "1"
      ]
     },
     "execution_count": 122,
     "metadata": {},
     "output_type": "execute_result"
    }
   ],
   "source": [
    "digits.index(1)"
   ]
  },
  {
   "cell_type": "code",
   "execution_count": 123,
   "id": "1ecfa3a9-fbd8-4403-8499-9185b712641f",
   "metadata": {},
   "outputs": [],
   "source": [
    "digits = digits + (3,4)"
   ]
  },
  {
   "cell_type": "code",
   "execution_count": 124,
   "id": "5711bb51-acd1-41b5-bcac-1bca92f15aba",
   "metadata": {},
   "outputs": [
    {
     "data": {
      "text/plain": [
       "(0, 1, 'two', 3, 4)"
      ]
     },
     "execution_count": 124,
     "metadata": {},
     "output_type": "execute_result"
    }
   ],
   "source": [
    "digits"
   ]
  },
  {
   "cell_type": "code",
   "execution_count": 125,
   "id": "3a946c2b-d34d-4f58-836b-5f51e39d46d8",
   "metadata": {},
   "outputs": [
    {
     "data": {
      "text/plain": [
       "(3, 4, 3, 4)"
      ]
     },
     "execution_count": 125,
     "metadata": {},
     "output_type": "execute_result"
    }
   ],
   "source": [
    "# we can create a tuple with elements repeated\n",
    "(3,4)*2"
   ]
  },
  {
   "cell_type": "markdown",
   "id": "3b6f5fd6-c7de-4223-96d0-ced7f38554f7",
   "metadata": {},
   "source": [
    "# Strings\n",
    "A sequence of characters, iterable and immutable"
   ]
  },
  {
   "cell_type": "code",
   "execution_count": 126,
   "id": "6f7fcff4-c4e1-464e-b30c-ae62b73b8609",
   "metadata": {},
   "outputs": [
    {
     "name": "stdout",
     "output_type": "stream",
     "text": [
      "42 I like you\n"
     ]
    }
   ],
   "source": [
    "s = str(42)\n",
    "s2 = 'I like you'\n",
    "print(s,s2)"
   ]
  },
  {
   "cell_type": "code",
   "execution_count": 127,
   "id": "3f8c01e5-e2f9-4040-a6ae-e4cb2a1e47ea",
   "metadata": {},
   "outputs": [
    {
     "name": "stdout",
     "output_type": "stream",
     "text": [
      "I\n",
      "10\n"
     ]
    }
   ],
   "source": [
    "print(s2[0])\n",
    "print(len(s2))"
   ]
  },
  {
   "cell_type": "code",
   "execution_count": 129,
   "id": "19a42d40-5173-4379-a0a1-7ffeedb14f93",
   "metadata": {},
   "outputs": [
    {
     "name": "stdout",
     "output_type": "stream",
     "text": [
      "I like\n",
      "you\n",
      "u\n"
     ]
    }
   ],
   "source": [
    "# string slicing like lists\n",
    "print(s2[:6]) # I like\n",
    "print(s2[7:]) # you\n",
    "print(s2[-1]) # u"
   ]
  },
  {
   "cell_type": "code",
   "execution_count": 131,
   "id": "80bce17d-4986-4248-967a-bfbb8676c3ad",
   "metadata": {},
   "outputs": [
    {
     "name": "stdout",
     "output_type": "stream",
     "text": [
      "i like you\n",
      "I LIKE YOU\n",
      "True\n",
      "True\n",
      "False\n",
      "2\n",
      "-1\n"
     ]
    }
   ],
   "source": [
    "# basic string methods (does not modify the original string)\n",
    "print(s2.lower()) # in all lowercase\n",
    "print(s2.upper()) # in all caps\n",
    "print(s2.startswith('I')) # returns true\n",
    "print(s2.endswith('you')) # returns true\n",
    "print(s2.isdigit()) # returns false\n",
    "print(s2.find('like')) # returns the index because it is found (first index of occurrence)\n",
    "print(s2.find('hate')) # returns -1 because not found"
   ]
  },
  {
   "cell_type": "code",
   "execution_count": 132,
   "id": "8ea5f143-8b5a-4dd4-bee9-a3462e49c5aa",
   "metadata": {},
   "outputs": [
    {
     "name": "stdout",
     "output_type": "stream",
     "text": [
      "I love you\n"
     ]
    }
   ],
   "source": [
    "print(s2.replace('like','love'))"
   ]
  },
  {
   "cell_type": "code",
   "execution_count": 134,
   "id": "d5420e6c-d326-4daa-81de-774809c61e78",
   "metadata": {},
   "outputs": [
    {
     "data": {
      "text/plain": [
       "['I', 'like', 'you']"
      ]
     },
     "execution_count": 134,
     "metadata": {},
     "output_type": "execute_result"
    }
   ],
   "source": [
    "s2.split(' ')"
   ]
  },
  {
   "cell_type": "code",
   "execution_count": 135,
   "id": "f6cae036-1f43-44ac-96b4-6faa7e34695c",
   "metadata": {},
   "outputs": [
    {
     "data": {
      "text/plain": [
       "['I', 'like', 'you']"
      ]
     },
     "execution_count": 135,
     "metadata": {},
     "output_type": "execute_result"
    }
   ],
   "source": [
    "s2.split()"
   ]
  },
  {
   "cell_type": "code",
   "execution_count": 136,
   "id": "b29afb3f-0c78-41c0-aeb6-e4992e660e1e",
   "metadata": {},
   "outputs": [
    {
     "data": {
      "text/plain": [
       "['a', 'an', 'the']"
      ]
     },
     "execution_count": 136,
     "metadata": {},
     "output_type": "execute_result"
    }
   ],
   "source": [
    "s3 = 'a,an,the'\n",
    "s3.split(',')"
   ]
  },
  {
   "cell_type": "code",
   "execution_count": 137,
   "id": "6407f1cb-2ad3-418e-af48-e0c8c35c5bee",
   "metadata": {},
   "outputs": [],
   "source": [
    "stooges = ['larry','curly','moe']"
   ]
  },
  {
   "cell_type": "code",
   "execution_count": 138,
   "id": "74e9848e-199f-4cdf-9d6e-0a55c3151274",
   "metadata": {},
   "outputs": [
    {
     "data": {
      "text/plain": [
       "'larry curly moe'"
      ]
     },
     "execution_count": 138,
     "metadata": {},
     "output_type": "execute_result"
    }
   ],
   "source": [
    "' '.join(stooges)"
   ]
  },
  {
   "cell_type": "code",
   "execution_count": 139,
   "id": "c365e202-f853-430e-8806-73e4b58884c0",
   "metadata": {},
   "outputs": [
    {
     "data": {
      "text/plain": [
       "'The meaning of life is 42'"
      ]
     },
     "execution_count": 139,
     "metadata": {},
     "output_type": "execute_result"
    }
   ],
   "source": [
    "s4 = 'The meaning of life is'\n",
    "s5 = '42'\n",
    "s4+ ' '+s5"
   ]
  },
  {
   "cell_type": "code",
   "execution_count": 140,
   "id": "a2d31780-0293-45a6-bb56-76eeefed3df1",
   "metadata": {},
   "outputs": [
    {
     "data": {
      "text/plain": [
       "'raining cats and dogs'"
      ]
     },
     "execution_count": 140,
     "metadata": {},
     "output_type": "execute_result"
    }
   ],
   "source": [
    "# string substitutions\n",
    "'raining %s and %s' % ('cats','dogs')"
   ]
  },
  {
   "cell_type": "code",
   "execution_count": 141,
   "id": "130f43aa-e916-4ee8-a0c3-32f3a14fae7d",
   "metadata": {},
   "outputs": [
    {
     "data": {
      "text/plain": [
       "'raining cats and dogs'"
      ]
     },
     "execution_count": 141,
     "metadata": {},
     "output_type": "execute_result"
    }
   ],
   "source": [
    "'raining {} and {}'.format('cats','dogs')"
   ]
  },
  {
   "cell_type": "code",
   "execution_count": 142,
   "id": "6094c151-e8f0-4273-a496-e21119809f00",
   "metadata": {},
   "outputs": [
    {
     "data": {
      "text/plain": [
       "'raining cats and dogs'"
      ]
     },
     "execution_count": 142,
     "metadata": {},
     "output_type": "execute_result"
    }
   ],
   "source": [
    "'raining {arg1} and {arg2}'.format(arg1='cats',arg2='dogs')"
   ]
  },
  {
   "cell_type": "markdown",
   "id": "dded56b9-cecb-42a2-aa5a-21b194abce4c",
   "metadata": {},
   "source": [
    "# Dictionaries\n",
    "\n",
    "Dictionaries are structures which can contain multiple data types, and is ordered with key-value pairs: for each (unique) key, the dictionary outputs one value. Keys can be strings, numbles, or tuples, while the corresponding values can be any Python object.\n",
    "\n",
    "Dictionaries are unordered, iterable, and mutable"
   ]
  },
  {
   "cell_type": "code",
   "execution_count": 143,
   "id": "ae560d01-3e57-4e64-9a2a-6c2815c7d496",
   "metadata": {},
   "outputs": [],
   "source": [
    "# create an empty dictionary, there are two ways\n",
    "empty_dict = {}\n",
    "empty_dict = dict()"
   ]
  },
  {
   "cell_type": "code",
   "execution_count": 145,
   "id": "9cb45fa1-bfc8-4952-8a5e-cc0dfbf15cea",
   "metadata": {},
   "outputs": [
    {
     "data": {
      "text/plain": [
       "{'dad': 'homer', 'mom': 'marge', 'size': 6}"
      ]
     },
     "execution_count": 145,
     "metadata": {},
     "output_type": "execute_result"
    }
   ],
   "source": [
    "# create a dictionary (two ways)\n",
    "family = {'dad':'homer','mom':'marge','size':6}\n",
    "family"
   ]
  },
  {
   "cell_type": "code",
   "execution_count": 148,
   "id": "56c14a0a-e48a-43d0-ac2e-f36ab763cb42",
   "metadata": {},
   "outputs": [
    {
     "data": {
      "text/plain": [
       "'homer'"
      ]
     },
     "execution_count": 148,
     "metadata": {},
     "output_type": "execute_result"
    }
   ],
   "source": [
    "family['dad']"
   ]
  },
  {
   "cell_type": "code",
   "execution_count": 149,
   "id": "a05d3ffd-6de8-4018-9db1-ea480c8b6485",
   "metadata": {},
   "outputs": [],
   "source": [
    "family = dict(dad='homer',mom='marge',size=6)"
   ]
  },
  {
   "cell_type": "code",
   "execution_count": null,
   "id": "c0ba35c6-3b66-4179-accc-77bab4e963c2",
   "metadata": {},
   "outputs": [],
   "source": [
    "# convert a list of tuples into a dictionary\n",
    "list_of_tuples = [('dad','homer'),('mom','marge'),"
   ]
  }
 ],
 "metadata": {
  "kernelspec": {
   "display_name": "BMM Project env",
   "language": "python",
   "name": "prediction_bmm_proj"
  },
  "language_info": {
   "codemirror_mode": {
    "name": "ipython",
    "version": 3
   },
   "file_extension": ".py",
   "mimetype": "text/x-python",
   "name": "python",
   "nbconvert_exporter": "python",
   "pygments_lexer": "ipython3",
   "version": "3.12.3"
  }
 },
 "nbformat": 4,
 "nbformat_minor": 5
}
